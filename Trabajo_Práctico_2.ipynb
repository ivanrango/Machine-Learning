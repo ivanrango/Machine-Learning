{
  "nbformat": 4,
  "nbformat_minor": 0,
  "metadata": {
    "colab": {
      "name": "Trabajo Práctico 2.ipynb",
      "provenance": [],
      "collapsed_sections": [],
      "authorship_tag": "ABX9TyPh0IggCxtVtyKmpe2R8CSD",
      "include_colab_link": true
    },
    "kernelspec": {
      "name": "python3",
      "display_name": "Python 3"
    }
  },
  "cells": [
    {
      "cell_type": "markdown",
      "metadata": {
        "id": "view-in-github",
        "colab_type": "text"
      },
      "source": [
        "<a href=\"https://colab.research.google.com/github/ivanrango/Machine-Learning/blob/master/Trabajo_Pr%C3%A1ctico_2.ipynb\" target=\"_parent\"><img src=\"https://colab.research.google.com/assets/colab-badge.svg\" alt=\"Open In Colab\"/></a>"
      ]
    },
    {
      "cell_type": "markdown",
      "metadata": {
        "id": "a9O2S1bWWJac"
      },
      "source": [
        "# Ejercicio 1:"
      ]
    },
    {
      "cell_type": "code",
      "metadata": {
        "id": "FI4uKYiOgYLD",
        "outputId": "a420d33f-1f43-419a-a1c8-fbde9efe300d",
        "colab": {
          "base_uri": "https://localhost:8080/",
          "height": 153
        }
      },
      "source": [
        "import pandas as pd\n",
        "url='https://raw.githubusercontent.com/manlio99/Materia-de-aprendizaje/master/4_DataWrangling/data/casos_covid_bahia.csv'\n",
        "df=pd.read_csv(url)\n",
        "print(df.head(5))"
      ],
      "execution_count": 1,
      "outputs": [
        {
          "output_type": "stream",
          "text": [
            "        fecha  confirmados  ...  aislamiento_por_contacto_estrecho  aprehendidos\n",
            "0  2020-06-30          106  ...                                181             0\n",
            "1  2020-07-01          114  ...                                172             0\n",
            "2  2020-07-02          124  ...                                176             0\n",
            "3  2020-07-03          137  ...                                190             0\n",
            "4  2020-07-04          154  ...                                214             0\n",
            "\n",
            "[5 rows x 11 columns]\n"
          ],
          "name": "stdout"
        }
      ]
    },
    {
      "cell_type": "code",
      "metadata": {
        "id": "VTnLn9ODoN8R"
      },
      "source": [
        "print(df)"
      ],
      "execution_count": null,
      "outputs": []
    },
    {
      "cell_type": "code",
      "metadata": {
        "id": "5Q4PPDjg-lJu",
        "outputId": "8101aac3-bf06-4d8d-d320-e4bb5094bba6",
        "colab": {
          "base_uri": "https://localhost:8080/",
          "height": 289
        }
      },
      "source": [
        "import pandas as pd\n",
        "import numpy as np\n",
        "from matplotlib import pyplot as plt\n",
        "\n",
        "conf=df[['confirmados']].to_numpy()\n",
        "plt.style.use('fivethirtyeight')\n",
        "plt.hist(conf, bins=15, edgecolor='black')\n",
        "plt.title('Total confirmados')\n",
        "#plt.xlabel('')\n",
        "#plt.ylabel('')\n",
        "\n",
        "plt.tight_layout()\n",
        "\n",
        "plt.show()"
      ],
      "execution_count": 2,
      "outputs": [
        {
          "output_type": "display_data",
          "data": {
            "image/png": "[encoded data removed]",
            "text/plain": [
              "<Figure size 432x288 with 1 Axes>"
            ]
          },
          "metadata": {
            "tags": []
          }
        }
      ]
    },
    {
      "cell_type": "markdown",
      "metadata": {
        "id": "owJOYrPEgTwv"
      },
      "source": [
        "Se observa que el total de confirmados no sigue una distribución normal o Gaussiana. Estos datos son agregados, es decir, a cada nuevo dato se le suma el anterior. Por lo tanto es de interés ver el comportamiento de los datos desagregados (casos diarios)."
      ]
    },
    {
      "cell_type": "code",
      "metadata": {
        "id": "oArUKj5NojVr"
      },
      "source": [
        "import numpy as np\n",
        "import matplotlib.pyplot as plt\n",
        "\n",
        "\n",
        "conf=df[['confirmados']].T.to_numpy()\n",
        "#print(conf.shape)\n",
        "#print(conf)\n",
        "\n"
      ],
      "execution_count": null,
      "outputs": []
    },
    {
      "cell_type": "code",
      "metadata": {
        "id": "_mz21sS0-r0I"
      },
      "source": [
        "confb = [conf[0,0]]\n",
        "#print(confb)\n",
        "for i in range (1,88):\n",
        "  #confb = np.array([conf])\n",
        "  #confb = np.insert([conf[0,0]],1,[conf[0,i]])\n",
        "   aux = [conf[0,i]-conf[0,i-1]]\n",
        "   #confb.append(aux)\n",
        "   confb = np.append([confb],aux)\n",
        "  #print(conf[0,i])\n",
        "#print(confb.shape)\n",
        "#print(confb)"
      ],
      "execution_count": null,
      "outputs": []
    },
    {
      "cell_type": "code",
      "metadata": {
        "id": "LeUH7E3wL6_s",
        "outputId": "efb8ca10-d181-450b-fe68-cd14530f2e02",
        "colab": {
          "base_uri": "https://localhost:8080/",
          "height": 289
        }
      },
      "source": [
        "plt.hist(confb, bins=10, edgecolor='black')\n",
        "plt.title('Total casos diarios')\n",
        "plt.tight_layout()\n",
        "\n",
        "plt.show()"
      ],
      "execution_count": 56,
      "outputs": [
        {
          "output_type": "display_data",
          "data": {
            "image/png": "[encoded data removed]",
            "text/plain": [
              "<Figure size 432x288 with 1 Axes>"
            ]
          },
          "metadata": {
            "tags": []
          }
        }
      ]
    },
    {
      "cell_type": "code",
      "metadata": {
        "id": "qzgsU3uZWeux"
      },
      "source": [
        ""
      ],
      "execution_count": null,
      "outputs": []
    },
    {
      "cell_type": "markdown",
      "metadata": {
        "id": "aaiIwqxbg39Z"
      },
      "source": [
        "De manera similar, se observa que los casos diarios tampoco siguen una distribución Gaussiana, de hecho a simple vista la tendencia parece ser exponencial decreciente."
      ]
    },
    {
      "cell_type": "code",
      "metadata": {
        "id": "QyYdu0YxhTGL"
      },
      "source": [
        ""
      ],
      "execution_count": null,
      "outputs": []
    }
  ]
}