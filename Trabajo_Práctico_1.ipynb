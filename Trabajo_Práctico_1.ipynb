{
  "nbformat": 4,
  "nbformat_minor": 0,
  "metadata": {
    "colab": {
      "name": "Copy of Trabajo Práctico 1.ipynb",
      "provenance": [],
      "collapsed_sections": []
    },
    "kernelspec": {
      "name": "python3",
      "display_name": "Python 3"
    }
  },
  "cells": [
    {
      "cell_type": "code",
      "metadata": {
        "id": "cUj725yIMuK0",
        "outputId": "6f72d90b-007e-47a9-e4f3-2d1b7f2c32a6",
        "colab": {
          "resources": {
            "http://localhost:8080/nbextensions/google.colab/files.js": {
              "data": "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",
              "ok": true,
              "headers": [
                [
                  "content-type",
                  "application/javascript"
                ]
              ],
              "status": 200,
              "status_text": ""
            }
          },
          "base_uri": "https://localhost:8080/",
          "height": 109
        }
      },
      "source": [
        "from google.colab import files\n",
        "files.upload()"
      ],
      "execution_count": null,
      "outputs": [
        {
          "output_type": "display_data",
          "data": {
            "text/html": [
              "\n",
              "     <input type=\"file\" id=\"files-ed7e91bc-84d2-434d-ba58-4227bf991930\" name=\"files[]\" multiple disabled\n",
              "        style=\"border:none\" />\n",
              "     <output id=\"result-ed7e91bc-84d2-434d-ba58-4227bf991930\">\n",
              "      Upload widget is only available when the cell has been executed in the\n",
              "      current browser session. Please rerun this cell to enable.\n",
              "      </output>\n",
              "      <script src=\"/nbextensions/google.colab/files.js\"></script> "
            ],
            "text/plain": [
              "<IPython.core.display.HTML object>"
            ]
          },
          "metadata": {
            "tags": []
          }
        },
        {
          "output_type": "stream",
          "text": [
            "Saving valores.xlsx to valores.xlsx\n"
          ],
          "name": "stdout"
        },
        {
          "output_type": "execute_result",
          "data": {
            "text/plain": [
              "{'valores.xlsx': b'PK\\x03\\x04\\x14\\x00\\x06\\x00\\x08\\x00\\x00\\x00!\\x00b\\xee\\x9dh^\\x01\\x00\\x00\\x90\\x04\\x00\\x00\\x13\\x00\\x08\\x02[Content_Types].xml \\xa2\\x04\\x02(\\xa0\\x00\\x02\\x00\\x00\\x00\\x00\\x00\\x00\\x00\\x00\\x00\\x00\\x00\\x00\\x00\\x00\\x00\\x00\\x00\\x00\\x00\\x00\\x00\\x00\\x00\\x00\\x00\\x00\\x00\\x00\\x00\\x00\\x00\\x00\\x00\\x00\\x00\\x00\\x00\\x00\\x00\\x00\\x00\\x00\\x00\\x00\\x00\\x00\\x00\\x00\\x00\\x00\\x00\\x00\\x00\\x00\\x00\\x00\\x00\\x00\\x00\\x00\\x00\\x00\\x00\\x00\\x00\\x00\\x00\\x00\\x00\\x00\\x00\\x00\\x00\\x00\\x00\\x00\\x00\\x00\\x00\\x00\\x00\\x00\\x00\\x00\\x00\\x00\\x00\\x00\\x00\\x00\\x00\\x00\\x00\\x00\\x00\\x00\\x00\\x00\\x00\\x00\\x00\\x00\\x00\\x00\\x00\\x00\\x00\\x00\\x00\\x00\\x00\\x00\\x00\\x00\\x00\\x00\\x00\\x00\\x00\\x00\\x00\\x00\\x00\\x00\\x00\\x00\\x00\\x00\\x00\\x00\\x00\\x00\\x00\\x00\\x00\\x00\\x00\\x00\\x00\\x00\\x00\\x00\\x00\\x00\\x00\\x00\\x00\\x00\\x00\\x00\\x00\\x00\\x00\\x00\\x00\\x00\\x00\\x00\\x00\\x00\\x00\\x00\\x00\\x00\\x00\\x00\\x00\\x00\\x00\\x00\\x00\\x00\\x00\\x00\\x00\\x00\\x00\\x00\\x00\\x00\\x00\\x00\\x00\\x00\\x00\\x00\\x00\\x00\\x00\\x00\\x00\\x00\\x00\\x00\\x00\\x00\\x00\\x00\\x00\\x00\\x00\\x00\\x00\\x00\\x00\\x00\\x00\\x00\\x00\\x00\\x00\\x00\\x00\\x00\\x00\\x00\\x00\\x00\\x00\\x00\\x00\\x00\\x00\\x00\\x00\\x00\\x00\\x00\\x00\\x00\\x00\\x00\\x00\\x00\\x00\\x00\\x00\\x00\\x00\\x00\\x00\\x00\\x00\\x00\\x00\\x00\\x00\\x00\\x00\\x00\\x00\\x00\\x00\\x00\\x00\\x00\\x00\\x00\\x00\\x00\\x00\\x00\\x00\\x00\\x00\\x00\\x00\\x00\\x00\\x00\\x00\\x00\\x00\\x00\\x00\\x00\\x00\\x00\\x00\\x00\\x00\\x00\\x00\\x00\\x00\\x00\\x00\\x00\\x00\\x00\\x00\\x00\\x00\\x00\\x00\\x00\\x00\\x00\\x00\\x00\\x00\\x00\\x00\\x00\\x00\\x00\\x00\\x00\\x00\\x00\\x00\\x00\\x00\\x00\\x00\\x00\\x00\\x00\\x00\\x00\\x00\\x00\\x00\\x00\\x00\\x00\\x00\\x00\\x00\\x00\\x00\\x00\\x00\\x00\\x00\\x00\\x00\\x00\\x00\\x00\\x00\\x00\\x00\\x00\\x00\\x00\\x00\\x00\\x00\\x00\\x00\\x00\\x00\\x00\\x00\\x00\\x00\\x00\\x00\\x00\\x00\\x00\\x00\\x00\\x00\\x00\\x00\\x00\\x00\\x00\\x00\\x00\\x00\\x00\\x00\\x00\\x00\\x00\\x00\\x00\\x00\\x00\\x00\\x00\\x00\\x00\\x00\\x00\\x00\\x00\\x00\\x00\\x00\\x00\\x00\\x00\\x00\\x00\\x00\\x00\\x00\\x00\\x00\\x00\\x00\\x00\\x00\\x00\\x00\\x00\\x00\\x00\\x00\\x00\\x00\\x00\\x00\\x00\\x00\\x00\\x00\\x00\\x00\\x00\\x00\\x00\\x00\\x00\\x00\\x00\\x00\\x00\\x00\\x00\\x00\\x00\\x00\\x00\\x00\\x00\\x00\\x00\\x00\\x00\\x00\\x00\\x00\\x00\\x00\\x00\\x00\\x00\\x00\\x00\\x00\\x00\\x00\\x00\\x00\\x00\\x00\\x00\\x00\\x00\\x00\\x00\\x00\\x00\\x00\\x00\\x00\\x00\\x00\\x00\\x00\\x00\\x00\\x00\\x00\\x00\\x00\\x00\\x00\\x00\\x00\\x00\\x00\\x00\\x00\\x00\\x00\\x00\\x00\\x00\\x00\\x00\\x00\\x00\\x00\\x00\\x00\\x00\\x00\\x00\\x00\\x00\\x00\\x00\\x00\\x00\\x00\\x00\\xac\\x94\\xcbN\\xc30\\x10E\\xf7H\\xfcC\\xe4-J\\xdc\\xb2@\\x085\\xed\\x82\\xc7\\x12*Q>\\xc0\\xc4\\x93\\xc6\\xaac[\\x9eii\\xff\\x9e\\x89\\xfb\\x10B\\xa1\\x15j7\\xb1\\x12\\xcf\\xdc{2\\xf1\\xcdh\\xb2nm\\xb6\\x82\\x88\\xc6\\xbbR\\x0c\\x8b\\x81\\xc8\\xc0U^\\x1b7/\\xc5\\xc7\\xec%\\xbf\\x17\\x19\\x92rZY\\xef\\xa0\\x14\\x1b@1\\x19__\\x8df\\x9b\\x00\\x98q\\xb7\\xc3R4D\\xe1AJ\\xac\\x1ah\\x15\\x16>\\x80\\xe3\\x9d\\xda\\xc7V\\x11\\xdf\\xc6\\xb9\\x0c\\xaaZ\\xa89\\xc8\\xdb\\xc1\\xe0NV\\xde\\x118\\xca\\xa9\\xd3\\x10\\xe3\\xd1\\x13\\xd4ji){^\\xf3\\xe3-I\\x04\\x8b\"{\\xdc\\x16v^\\xa5P!XS)bR\\xb9r\\xfa\\x97K\\xbes(\\xb83\\xd5`c\\x02\\xde0\\x86\\x90\\xbd\\x0e\\xdd\\xce\\xdf\\x06\\xbb\\xbe7\\x1eM4\\x1a\\xb2\\xa9\\x8a\\xf4\\xaaZ\\xc6\\x90k+\\xbf|\\\\|z\\xbf(\\x8e\\x8b\\xf4P\\xfa\\xba6\\x15h_-[\\x9e@\\x81!\\x82\\xd2\\xd8\\x00Pk\\x8b\\xb4\\x16\\xad2n\\xcf}\\xc4?\\x15\\xa3L\\xcb\\xf0\\xc2 \\xdd\\xfb%\\xe1\\x13\\x1c\\xc4\\xdf\\x1bd\\xba\\x9e\\x8f\\x90dN\\x18\"m,\\xe0\\xa5\\xc7\\x9eDO97*\\x82~\\xa7\\xc8\\xc9\\xb88\\xc0O\\xedc\\x1c|n\\xa6\\xd1\\x07\\xe4\\x04E\\xf8\\xff\\x14\\xf6\\x11\\xe9\\xba\\xf3\\xc0B\\x10\\xc9\\xc0!$}\\x87\\xed\\xe0\\xc8\\xe9;{\\xec\\xd0\\xe5[\\x83\\xee\\xf1\\x96\\xe9\\x7f2\\xfe\\x06\\x00\\x00\\xff\\xff\\x03\\x00PK\\x03\\x04\\x14\\x00\\x06\\x00\\x08\\x00\\x00\\x00!\\x00\\xb5U0#\\xf4\\x00\\x00\\x00L\\x02\\x00\\x00\\x0b\\x00\\x08\\x02_rels/.rels \\xa2\\x04\\x02(\\xa0\\x00\\x02\\x00\\x00\\x00\\x00\\x00\\x00\\x00\\x00\\x00\\x00\\x00\\x00\\x00\\x00\\x00\\x00\\x00\\x00\\x00\\x00\\x00\\x00\\x00\\x00\\x00\\x00\\x00\\x00\\x00\\x00\\x00\\x00\\x00\\x00\\x00\\x00\\x00\\x00\\x00\\x00\\x00\\x00\\x00\\x00\\x00\\x00\\x00\\x00\\x00\\x00\\x00\\x00\\x00\\x00\\x00\\x00\\x00\\x00\\x00\\x00\\x00\\x00\\x00\\x00\\x00\\x00\\x00\\x00\\x00\\x00\\x00\\x00\\x00\\x00\\x00\\x00\\x00\\x00\\x00\\x00\\x00\\x00\\x00\\x00\\x00\\x00\\x00\\x00\\x00\\x00\\x00\\x00\\x00\\x00\\x00\\x00\\x00\\x00\\x00\\x00\\x00\\x00\\x00\\x00\\x00\\x00\\x00\\x00\\x00\\x00\\x00\\x00\\x00\\x00\\x00\\x00\\x00\\x00\\x00\\x00\\x00\\x00\\x00\\x00\\x00\\x00\\x00\\x00\\x00\\x00\\x00\\x00\\x00\\x00\\x00\\x00\\x00\\x00\\x00\\x00\\x00\\x00\\x00\\x00\\x00\\x00\\x00\\x00\\x00\\x00\\x00\\x00\\x00\\x00\\x00\\x00\\x00\\x00\\x00\\x00\\x00\\x00\\x00\\x00\\x00\\x00\\x00\\x00\\x00\\x00\\x00\\x00\\x00\\x00\\x00\\x00\\x00\\x00\\x00\\x00\\x00\\x00\\x00\\x00\\x00\\x00\\x00\\x00\\x00\\x00\\x00\\x00\\x00\\x00\\x00\\x00\\x00\\x00\\x00\\x00\\x00\\x00\\x00\\x00\\x00\\x00\\x00\\x00\\x00\\x00\\x00\\x00\\x00\\x00\\x00\\x00\\x00\\x00\\x00\\x00\\x00\\x00\\x00\\x00\\x00\\x00\\x00\\x00\\x00\\x00\\x00\\x00\\x00\\x00\\x00\\x00\\x00\\x00\\x00\\x00\\x00\\x00\\x00\\x00\\x00\\x00\\x00\\x00\\x00\\x00\\x00\\x00\\x00\\x00\\x00\\x00\\x00\\x00\\x00\\x00\\x00\\x00\\x00\\x00\\x00\\x00\\x00\\x00\\x00\\x00\\x00\\x00\\x00\\x00\\x00\\x00\\x00\\x00\\x00\\x00\\x00\\x00\\x00\\x00\\x00\\x00\\x00\\x00\\x00\\x00\\x00\\x00\\x00\\x00\\x00\\x00\\x00\\x00\\x00\\x00\\x00\\x00\\x00\\x00\\x00\\x00\\x00\\x00\\x00\\x00\\x00\\x00\\x00\\x00\\x00\\x00\\x00\\x00\\x00\\x00\\x00\\x00\\x00\\x00\\x00\\x00\\x00\\x00\\x00\\x00\\x00\\x00\\x00\\x00\\x00\\x00\\x00\\x00\\x00\\x00\\x00\\x00\\x00\\x00\\x00\\x00\\x00\\x00\\x00\\x00\\x00\\x00\\x00\\x00\\x00\\x00\\x00\\x00\\x00\\x00\\x00\\x00\\x00\\x00\\x00\\x00\\x00\\x00\\x00\\x00\\x00\\x00\\x00\\x00\\x00\\x00\\x00\\x00\\x00\\x00\\x00\\x00\\x00\\x00\\x00\\x00\\x00\\x00\\x00\\x00\\x00\\x00\\x00\\x00\\x00\\x00\\x00\\x00\\x00\\x00\\x00\\x00\\x00\\x00\\x00\\x00\\x00\\x00\\x00\\x00\\x00\\x00\\x00\\x00\\x00\\x00\\x00\\x00\\x00\\x00\\x00\\x00\\x00\\x00\\x00\\x00\\x00\\x00\\x00\\x00\\x00\\x00\\x00\\x00\\x00\\x00\\x00\\x00\\x00\\x00\\x00\\x00\\x00\\x00\\x00\\x00\\x00\\x00\\x00\\x00\\x00\\x00\\x00\\x00\\x00\\x00\\x00\\x00\\x00\\x00\\x00\\x00\\x00\\x00\\x00\\x00\\x00\\x00\\x00\\x00\\x00\\x00\\x00\\x00\\x00\\x00\\x00\\x00\\x00\\x00\\x00\\x00\\x00\\x00\\x00\\x00\\x00\\x00\\x00\\x00\\x00\\x00\\x00\\x00\\x00\\x00\\x00\\x00\\x00\\x00\\x00\\x00\\x00\\x00\\x00\\x00\\x00\\x00\\x00\\x00\\x00\\x00\\xac\\x92MO\\xc30\\x0c\\x86\\xefH\\xfc\\x87\\xc8\\xf7\\xd5\\xdd\\x90\\x10BKwAH\\xbb!T~\\x80I\\xdc\\x0f\\xb5\\x8d\\xa3$\\x1b\\xdd\\xbf\\'\\x1c\\x10T\\x1a\\x83\\x03G\\x7f\\xbd~\\xfc\\xca\\xdb\\xdd<\\x8d\\xea\\xc8!\\xf6\\xe24\\xac\\x8b\\x12\\x14;#\\xb6w\\xad\\x86\\x97\\xfaqu\\x07*&r\\x96Fq\\xac\\xe1\\xc4\\x11v\\xd5\\xf5\\xd5\\xf6\\x99GJy(v\\xbd\\x8f*\\xab\\xb8\\xa8\\xa1K\\xc9\\xdf#F\\xd3\\xf1D\\xb1\\x10\\xcf.W\\x1a\\t\\x13\\xa5\\x1c\\x86\\x16=\\x99\\x81Z\\xc6MY\\xdeb\\xf8\\xae\\x01\\xd5BS\\xed\\xad\\x86\\xb0\\xb77\\xa0\\xea\\x93\\xcf\\x9b\\x7f\\xd7\\x96\\xa6\\xe9\\r?\\x889L\\xec\\xd2\\x99\\x15\\xc8sbg\\xd9\\xae|\\xc8l!\\xf5\\xf9\\x1aUSh9i\\xb0b\\x9er:\"y_dl\\xc0\\xf3D\\x9b\\xbf\\x13\\xfd|-N\\x9c\\xc8R\"4\\x12\\xf82\\xcfG\\xc7%\\xa0\\xf5\\x7fZ\\xb44\\xf1\\xcb\\x9dy\\xc47\\t\\xc3\\xab\\xc8\\xf0\\xc9\\x82\\x8b\\x1f\\xa8\\xde\\x01\\x00\\x00\\xff\\xff\\x03\\x00PK\\x03\\x04\\x14\\x00\\x06\\x00\\x08\\x00\\x00\\x00!\\x00\\xcd\\xeb\\xf9\\x85\\x0f\\x03\\x00\\x00\\xe8\\x06\\x00\\x00\\x0f\\x00\\x00\\x00xl/workbook.xml\\xacU[o\\x9b0\\x14~\\x9f\\xb4\\xff\\x80\\xfcN\\xc1\\xe6\\x96\\xa0\\x92*\\tT\\xab\\xd4\\xaeU\\x97u/\\x91&\\x17\\x9c\\xe0\\x050\\xb3M\\x93\\xaa\\xda\\x7f\\xdf1)\\xbd,{\\xe8.\\x08|\\xe1\\x98\\xcf\\xdf9\\xe7;\\xe6\\xf8dWW\\xd6\\x1d\\x93\\x8a\\x8b&A\\xf8\\xc8E\\x16krQ\\xf0f\\x9d\\xa0\\xcf\\x8bS{\\x84,\\xa5iS\\xd0J4,A\\xf7L\\xa1\\x93\\xc9\\xfbw\\xc7[!7\\xb7Bl,\\x00hT\\x82J\\xad\\xdb\\xd8qT^\\xb2\\x9a\\xaa#\\xd1\\xb2\\x06,+!k\\xaaa*\\xd7\\x8ej%\\xa3\\x85*\\x19\\xd3u\\xe5\\x10\\xd7\\r\\x9d\\x9a\\xf2\\x06\\xed\\x11b\\xf9\\x16\\x0c\\xb1Z\\xf1\\x9c\\xa5\"\\xefj\\xd6\\xe8=\\x88d\\x15\\xd5@_\\x95\\xbcU\\x03Z\\x9d\\xbf\\x05\\xae\\xa6r\\xd3\\xb5v.\\xea\\x16 ny\\xc5\\xf5}\\x0f\\x8a\\xac:\\x8f\\xcf\\xd6\\x8d\\x90\\xf4\\xb6\\x02\\xb7w8\\xb0v\\x12\\xee\\x10\\x1e\\xecBC\\x86\\x9d\\xc0t\\xb0U\\xcds)\\x94X\\xe9#\\x80v\\xf6\\xa4\\x0f\\xfc\\xc7\\xae\\x83\\xf1\\xab\\x10\\xec\\x0ec\\xf06$\\xdf\\x91\\xec\\x8e\\x9b\\x1c>\\xb1\\x92\\xe1_\\xb2\\n\\x9f\\xb0\\xc2g0\\xec\\xfe3\\x1a\\x06i\\xf5Z\\x89!x\\x7f\\x89\\x16<q#hr\\xbc\\xe2\\x15\\xbb\\xd9K\\xd7\\xa2m\\xfb\\x91\\xd6&S\\x15\\xb2*\\xaatVp\\xcd\\x8a\\x04E0\\x15[\\xf6\\xea\\x85\\xec\\xdaY\\xc7+\\xb0\\x12\\x0f\\x93\\x089\\x93\\'9_I\\xab`+\\xdaUz\\x01B\\x1e\\xe0\\xa12\\xc2pL\\x02\\xb3\\x12\\x841\\xad4\\x93\\r\\xd5l.\\x1a\\r:|\\xf4\\xeb_5\\xd7c\\xcfK\\x01\\n\\xb7\\xae\\xd9\\xf7\\x8eK\\x06\\x85\\x05\\xfa\\x02_\\xa1\\xa5yLo\\xd5\\x15\\xd5\\xa5\\xd5\\xc9*A\\xf3x\\xf9Y\\x81\\xfb\\xcb\\xb5\\xa49_\\xa6Lm\\xb4h\\x97\\xe9\\xe5|qy=M/\\x97\\x174/y\\xc3\\xacsFe\\x03\\x05\\xbd\\\\\\\\\\xe1\\xe5\\x0b\\xd9\\xd2\\xc3\\x1a\\xf9\\x03\\xe1\\xd2\\xdcD\\xc3\\x81p\\xec)\\xef\\xc7\\xbf\\x86\\x06\\x98\\xcbx\\x10\\xe7\\x95\\x96\\x16\\x8c\\xcf\\xd2sH\\xd0\\'z\\x07\\xe9\\x02Q\\x14\\x8f\\xd5|\\x06\\xf9\\x18}} \\x9e\\x9b\\x058#\\xf6,\\xf4S\\xdb\\xf7R\\xdf\\x9e\\xe1,\\xb2#2\\x9d\\x8d\\x88\\xe7eQ:\\xfa\\x01^\\xc80\\xce\\x05\\xedt\\xf9(\\x01\\x83\\x99 ?\\xf8\\x8d\\xe9\\x82\\xee\\x06\\x0bv\\xe3\\x8e\\x17\\xcf\\xfb?\\xb8\\x8f\\x97m\\xfa_\\x9a\\xc1\\xf6\\xc3xj\\x0e\\xbb\\x1b\\xce\\xb6\\xeaY,fj\\xed\\xbe\\xf0\\xa6\\x10\\xdb\\x04\\xd9\\x98\\x807\\xf7\\xaf\\xa7\\xdb\\xde\\xf8\\x85\\x17\\xba\\x04\\xb5\\xb9\\x91\\x07K\\xf6\\xef>0\\xbe.\\x811\\xc6QhJC\\x12\\xc3,A\\x0f\\xd8%\\xa7d\\xe6f6\\xf1\\xa6\\xd8\\xf6S\\x12\\xd8\\xd3y\\xe4\\xdb\\xd8M\\xc7\\xd3y\\x18NI0\\xeb\\x199/(\\xf5\\xc7*P\\xeb{\\xab\\xe9K\\xe1\\x83\\xf8F1\\x1c\\xdf\\xe6\\xc45\\xc1\\x85\\xb1\\x8c\\xcd\\x16\\xf2\\xac\\xc0}\\xf2\\x86\\xafrZ\\xe5\\xa0|\\xd3\\xf5\\x0b\\xc7\\xc0alV\\xb0\\x9d>W\\xba\\xefAt\\xdc\\xb0\\xf3\\xddi\\xe4\\x8e}\\xdb\\xcd\\xbc\\xc0\\xf6Gcb\\x8f|\\x8f\\xd8s \\x9a\\x05Q\\x96f\\xb3\\xc0\\xa4\\xc7\\xfc\\x15\\xe2\\xffq6\\xf6\\xda\\x8f\\x87\\xdf\\x8daYR\\xa9\\x17\\xa0\\xf9\\rh\\xfa\\x9a\\xadfT\\x81\\x90\\xf6\\x0e\\x01_\\xd0\\xe1\\xc0\\xda\\x19\\xbe\\x9a\\xfc\\x04\\x00\\x00\\xff\\xff\\x03\\x00PK\\x03\\x04\\x14\\x00\\x06\\x00\\x08\\x00\\x00\\x00!\\x00\\x81>\\x94\\x97\\xf3\\x00\\x00\\x00\\xba\\x02\\x00\\x00\\x1a\\x00\\x08\\x01xl/_rels/workbook.xml.rels \\xa2\\x04\\x01(\\xa0\\x00\\x01\\x00\\x00\\x00\\x00\\x00\\x00\\x00\\x00\\x00\\x00\\x00\\x00\\x00\\x00\\x00\\x00\\x00\\x00\\x00\\x00\\x00\\x00\\x00\\x00\\x00\\x00\\x00\\x00\\x00\\x00\\x00\\x00\\x00\\x00\\x00\\x00\\x00\\x00\\x00\\x00\\x00\\x00\\x00\\x00\\x00\\x00\\x00\\x00\\x00\\x00\\x00\\x00\\x00\\x00\\x00\\x00\\x00\\x00\\x00\\x00\\x00\\x00\\x00\\x00\\x00\\x00\\x00\\x00\\x00\\x00\\x00\\x00\\x00\\x00\\x00\\x00\\x00\\x00\\x00\\x00\\x00\\x00\\x00\\x00\\x00\\x00\\x00\\x00\\x00\\x00\\x00\\x00\\x00\\x00\\x00\\x00\\x00\\x00\\x00\\x00\\x00\\x00\\x00\\x00\\x00\\x00\\x00\\x00\\x00\\x00\\x00\\x00\\x00\\x00\\x00\\x00\\x00\\x00\\x00\\x00\\x00\\x00\\x00\\x00\\x00\\x00\\x00\\x00\\x00\\x00\\x00\\x00\\x00\\x00\\x00\\x00\\x00\\x00\\x00\\x00\\x00\\x00\\x00\\x00\\x00\\x00\\x00\\x00\\x00\\x00\\x00\\x00\\x00\\x00\\x00\\x00\\x00\\x00\\x00\\x00\\x00\\x00\\x00\\x00\\x00\\x00\\x00\\x00\\x00\\x00\\x00\\x00\\x00\\x00\\x00\\x00\\x00\\x00\\x00\\x00\\x00\\x00\\x00\\x00\\x00\\x00\\x00\\x00\\x00\\x00\\x00\\x00\\x00\\x00\\x00\\x00\\x00\\x00\\x00\\x00\\x00\\x00\\x00\\x00\\x00\\x00\\x00\\x00\\x00\\x00\\x00\\x00\\x00\\x00\\x00\\x00\\x00\\x00\\x00\\x00\\x00\\x00\\x00\\x00\\x00\\x00\\x00\\x00\\x00\\x00\\x00\\x00\\x00\\x00\\x00\\x00\\x00\\x00\\x00\\x00\\x00\\x00\\x00\\x00\\x00\\x00\\x00\\x00\\x00\\x00\\x00\\x00\\x00\\x00\\x00\\x00\\xacRMK\\xc40\\x10\\xbd\\x0b\\xfe\\x870w\\x9bv\\x15\\x11\\xd9t/\"\\xecU\\xeb\\x0f\\x08\\xc9\\xb4)\\xdb&!3~\\xf4\\xdf\\x1b*\\xba]X\\xd6K/\\x03o\\x86y\\xef\\xcd\\xc7v\\xf75\\x0e\\xe2\\x03\\x13\\xf5\\xc1+\\xa8\\x8a\\x12\\x04z\\x13l\\xef;\\x05o\\xcd\\xf3\\xcd\\x03\\x08b\\xed\\xad\\x1e\\x82G\\x05\\x13\\x12\\xec\\xea\\xeb\\xab\\xed\\x0b\\x0e\\x9as\\x13\\xb9>\\x92\\xc8,\\x9e\\x148\\xe6\\xf8(%\\x19\\x87\\xa3\\xa6\"D\\xf4\\xb9\\xd2\\x864j\\xce0u2js\\xd0\\x1d\\xcaMY\\xde\\xcb\\xb4\\xe4\\x80\\xfa\\x84S\\xec\\xad\\x82\\xb4\\xb7\\xb7 \\x9a)f\\xe5\\xff\\xb9C\\xdb\\xf6\\x06\\x9f\\x82y\\x1f\\xd1\\xf3\\x19\\tI<\\ry\\x00\\xd1\\xe8\\xd4!+\\xf8\\xc1E\\xf6\\x08\\xf2\\xbc\\xfcfMy\\xcek\\xc1\\xa3\\xfa\\x0c\\xe5\\x1c\\xabK\\x1e\\xaa5=|\\x86t \\x87\\xc8G\\x1f\\x7f)\\x92s\\xe5\\xa2\\x99\\xbbU\\xef\\xe1tB\\xfb\\xca)\\xbf\\xdb\\xf2,\\xcb\\xf4\\xeff\\xe4\\xc9\\xc7\\xd5\\xdf\\x00\\x00\\x00\\xff\\xff\\x03\\x00PK\\x03\\x04\\x14\\x00\\x06\\x00\\x08\\x00\\x00\\x00!\\x00u\\xe1\\x91\\x04t\\x04\\x00\\x00\\x1a\\x10\\x00\\x00\\x18\\x00\\x00\\x00xl/worksheets/sheet1.xml\\x9cW[\\x8f\\xa36\\x14~\\xaf\\xd4\\xff\\x80x\\x8f\\xb9\\xdf\\xa2$\\xab\\x05\\x02\\xd9J\\x95\\xaa^\\x9f\\tq\\x124\\x80)x23Z\\xf5\\xbf\\xf7\\x80!\\x19lGJ6\\x9a\\x91\\xe0\\xf3\\xe7s7>g\\xf5\\xe5\\xbd*\\x95\\x0bn\\xbb\\x82\\xd4k\\xd5@\\xba\\xaa\\xe0:\\'\\x87\\xa2>\\xad\\xd5\\xbf\\xfeL\\x16\\xbe\\xaat4\\xab\\x0fYIj\\xbcV?p\\xa7~\\xd9\\xfc\\xfc\\xd3\\xea\\x8d\\xb4/\\xdd\\x19c\\xaa\\x80\\x84\\xba[\\xabgJ\\x9b\\xa5\\xa6u\\xf9\\x19WY\\x87H\\x83kX9\\x92\\xb6\\xca(\\xbc\\xb6\\'\\xadkZ\\x9c\\x1d\\x86MU\\xa9\\x99\\xba\\xeejUV\\xd4*\\x93\\xb0l\\x1f\\x91A\\x8e\\xc7\"\\xc71\\xc9_+\\\\S&\\xa4\\xc5eF\\xc1\\xfe\\xee\\\\4\\xdd$\\xad\\xca\\x1f\\x11We\\xed\\xcbk\\xb3\\xc8I\\xd5\\x80\\x88}Q\\x16\\xf4c\\x10\\xaa*U\\xbe\\xfcv\\xaaI\\x9b\\xedK\\xf0\\xfb\\xdd\\xb0\\xb3\\\\yo\\xe1\\xcf\\x84\\x7fkR3\\xe0\\x82\\xa6\\xaa\\xc8[\\xd2\\x91#E Yc6\\x8b\\xee\\x07Z\\xa0e\\xf9U\\x92\\xe8\\xffCb\\x0c[k\\xf1\\xa5\\xe8\\x13x\\x13e\\xfe\\x98I\\x86s\\x95e\\xde\\x84Y?(\\xcc\\xbd\\n\\xeb\\xc3\\xd5._\\x8b\\xc3Z\\xfd\\xbeM\\xf4\\xc4HBs\\xa1\\xc7\\xbe\\xb7\\xb0\\xbd\\xc4\\\\\\x84Fl/\\\\7\\x0c\\xb7\\x96\\x1e\\xbaFd\\xfd\\xa7nV\\x87\\x022\\xdc{\\xa5\\xb4\\xf8\\xb8V\\xbf\\x1a\\xcb\\x9da\\xaa\\xdaf5\\x14\\xd0\\xdf\\x05~\\xeb>=+4\\xdb\\xff\\x81K\\x9cS\\x0cJ\\x0cU\\xe9\\xebsO\\xc8KO\\xfc\\x06\\x90\\x0e\"\\xbb\\x81\\xd0\\x8b\\xccrZ\\\\p\\x84\\xcbr\\xad\\xfe\\x12@\\x89\\xff;(\\x81GP\\xa0]5|~\\x9e\\xb4%CE\\xff\\xd6*\\xfb\\xac\\xc3\\x11)\\xff)\\x0e\\xf4\\x0c*\\xe1\\xe4\\x1c\\xf01{-\\xe9\\xef\\xe4m\\x87\\x8b\\xd3\\x99\\x02\\xea\\x80\\xe7}\\xe9,\\x0f\\x1f1\\xeer\\xa8Y0\\x05\\x99\\xce\\xd5\\x918\\xa3\\xd9f\\xd5\\x927\\x05\\xf2\\x0fvwM\\xd6\\x9f&c\\t\\x07O\\xbes\\xb3\\xca{\\xee\\xd7\\x9e<l\\x01\\x91\\x1dxw\\xd9\\xe8+\\xed\\x02&\\xe7##\\x14\\x19\\xc6\\x9c\\x11\\x89\\x0cs\\xce\\x88E\\x865glE\\x86=g$\"\\xc3\\x993R\\x91\\xe1\\xce\\x19;\\x91\\xe1]\\x19\\x1a\\x84\\xef\\x1aC(\\xdc\\xc7ch\\x0eq3\\xf8\\xc01\\xd8G\\xba\\x15|\\xfe\\xf1\\xd1\\x93\\xef\\x8e\\x19\\x1c \\x83\\x8b\\xc3V\\xceO\\x18\\xec!\\x9b\\xf39\\x1d\\xcd\\xe0\"\\xc1P\\x179\\xbe<\\x00p\\xd8\\x1e\\x0f\\x805\\x04\\xe0&i(\\xad\\x90\\xa1.\\n\\xb8<ERz<\\xa2\\xa2\\xc3Rz2I\\xf7n\\x19\\x1c\\xd4\\xa6R\\xfa\\x8e\\xa1\\x0e\\xf2n\\xe1\\x99%\\xdc~\\xc6_\\x9b%\\x9c\\xab\\xe1\\x90\\xc1\\xde\\xe7\\x98\\x0e&Er~\\xcc`\\x1fy|\\x8a\\xe5\\xfcd\\x84MaC:J\\xe2r<\\xd9\\xe3\\xddJn\\xe63|V\\x1e\\xcf\\xb13\\xf8\\x1cp\\x1f\\x07\\x86\\xfa\\xc8\\xe7\\xabZJ\\x8f\\':\\x9f\\xb4\\xad\\x94\\x9e0\\xd4C\\x06\\'=\\x1d\\xe5p\\xfe^\\x8d\\xb9\\xc5s\\xe6\\xaf\\xfb\\x8c\\xbf.\\xcb1\\xa79d\\xb0\\x8f,.\\xf9\\x91\\x9c\\x1f38@&w,\\xb7r~\\xc2`O\\x08h:*\\xe6\\\\\\x9e\\xcc\\xb1=\\xfd\\xf3\\xefN\\x91{\\xcf\\x04\\xc0c\\x01\\xe0j3dp\\x80\\x02w\\xa6\\x91+\\x8cH\\xbe;f\\xb0\\x8f\\xb8\\xb0n\\xe5\\xf4d\\xa2\\xfb\\x9c\\x15\\xe9\\xb8\\xc0E\\x83\\xa1\\x1e\\xd2\\xef\\x14@\\xdf\\x86>|3\\xfa\\x83\\xff\\\\\\xdaB\\x86z\\xc8\\xe4,\\x8a\\xa4\\xf4xD\\x91\\xc1\\xdfwRz2\\xd1u\\xee[\\x9a\\xb2\\x05\\x0e\\xdd1\\xd4\\x81N@\\xfe\\x11\\xef{\\x92\\x87\\xfd\\r\\x06\\x7f\\xf9t\\x8f\\xa8P\\xbf\\x91\\x94\\x1e3\\xd4\\x12\\xf2+e\\'\\x0cu\\x90\\xc5UO\\xca\\x16\\x0c\\x0e\\xde\\x8d\\xb0\\x89\\xee\\xf8\\xdb\\xb7OO\\xb4>}7w\\xd9\\x18\\\\\\xb3\\x12\\x82\\x94\\x01\\xd7\\x11_v\\xd1\\xb4$\\xf47l\\x0b\\xdc\\xd6\\xd6\\xecTp\\t\\xdb\\xde\\xd9\\x9f\\x8c8\\x9c\\x0b\\xa1\\xa7a\\x92\\xf9\\xcc\\x8f\\x1b\\x1c\\xe4\\xdc9\\xea\\xc6s]\\xa01\\xb8\\xcc]\\xa5!\\x08\\xe9#a#\\x9fs8\\x1aW\\xb8\\r\\xf1\\x04\\x8b\\x9f;\\xf9\\x86d\\x84]ds\\x1a\\xd2qEp|\\xb4\\x14\\x05w.5h\\xef\\x9f\\xa9\\x01\\xd6\\x07qQ\\x0fAH\\xef\\xb8\\x83\\\\N\\x7f4\\xad\\xf0\\r.\\xdb`\\x8bw\\xb9|Cr\\xd5\\xe0q_\\x86t\\\\\\x11\\x1c\\x9f:6\\xffv*\\xd8\\xed\\xc6&\\r6\\x024g\\x18\\xb0i\\x91\\xc3dq$5\\xedg\\x16(\\x04\\xfa\\xd1\\xc0\\xf4Y\\x93\\x88\\xd4\\xe3\\x94\\xdeO\\x0eMv\\xc2\\xbff\\xed\\xa9\\xa8;\\xa5\\xc4\\xc7a\\xa6\\x80\\x1b\\xa2eC\\x87\\x8e\\xe0\\x99\\x92\\xa6\\x9f4<\\xe8\\x14\\xf6\\x84RRMog\\x98\\xc11\\xcc\\x0f:\\x82F\\xf1H\\x08\\x9d^\\xfa\\xc9\\xe7:\\xd5o\\xfe\\x07\\x00\\x00\\xff\\xff\\x03\\x00PK\\x03\\x04\\x14\\x00\\x06\\x00\\x08\\x00\\x00\\x00!\\x00\\x83Ml\\xc8V\\x07\\x00\\x00\\xc8 \\x00\\x00\\x13\\x00\\x00\\x00xl/theme/theme1.xml\\xecY[\\x8f\\x1b5\\x14~G\\xe2?X\\xf3\\x9e\\xe66\\x93\\xcb\\xaa)\\xca\\xb5K\\xbb\\xdbV\\xdd\\xb4\\x88Go\\xe2d\\xdc\\xf5\\x8c#\\xdb\\xd9m\\x84*\\xa1\\xf2\\xc4\\x0b\\x12\\x12 ^\\x90x\\xe3\\x01!\\x90@\\x02\\xf1\\xc2\\x8f\\xa9\\xd4\\x8a\\xcb\\x8f\\xe0\\xd83\\xc9\\xd8\\x1b\\x87^\\xd8\"@\\xbb\\x91V\\x19\\xe7;\\xc7\\xc7\\xe7\\x1c\\x7f>s|\\xf5\\xad\\x87\\tC\\xa7DH\\xca\\xd3NP\\xbdR\\t\\x10I\\'|J\\xd3y\\'\\xb87\\x1e\\x95Z\\x01\\x92\\n\\xa7S\\xccxJ:\\xc1\\x8a\\xc8\\xe0\\xadko\\xbeq\\x15\\xef\\xa9\\x98$\\x04\\x81|*\\xf7p\\'\\x88\\x95Z\\xec\\x95\\xcbr\\x02\\xc3X^\\xe1\\x0b\\x92\\xc2o3.\\x12\\xac\\xe0Q\\xcc\\xcbS\\x81\\xcf@o\\xc2\\xca\\xb5J\\xa5QN0M\\x03\\x94\\xe2\\x04\\xd4\\x8eA\\x06M\\t\\xba=\\x9b\\xd1\\t\\t\\xae\\xad\\xd5\\x0f\\x19\\xcc\\x91*\\xa9\\x07&L\\x1ci\\xe5$\\x97\\xb1\\xb0\\xd3\\x93\\xaaF\\xc8\\x95\\xec3\\x81N1\\xeb\\x040\\xd3\\x94\\x9f\\x8d\\xc9C\\x15 \\x86\\xa5\\x82\\x1f:A\\xc5\\xfc\\x05\\xe5kW\\xcbx/\\x17bj\\x87\\xac%72\\x7f\\xb9\\\\.0=\\xa9\\x999\\xc5\\xfcx3i\\x18Fa\\xa3\\xbb\\xd1o\\x00Lm\\xe3\\x86\\xcdac\\xd8\\xd8\\xe83\\x00<\\x99\\xc0J3[\\\\\\x9d\\xcdZ?\\xcc\\xb1\\x16(\\xfb\\xea\\xd1=h\\x0e\\xeaU\\x07o\\xe9\\xafo\\xd9\\xdc\\x8d\\xf4\\xc7\\xc1\\x1bP\\xa6?\\xdc\\xc2\\x8fF}\\xf0\\xa2\\x837\\xa0\\x0c\\x1fm\\xe1\\xa3^\\xbb7p\\xf5\\x1bP\\x86ol\\xe1\\x9b\\x95\\xee l:\\xfa\\r(f4=\\xd9BW\\xa2F\\xbd\\xbf^\\xed\\x062\\xe3l\\xdf\\x0boG\\xe1\\xa8Y\\xcb\\x95\\x17(\\xc8\\x86Mv\\xe9)f<U\\xbbr-\\xc1\\x0f\\xb8\\x18\\x01@\\x03\\x19V4Ej\\xb5 3<\\x81<\\xeecF\\x8f\\x05E\\x07t\\x1eC\\xe2-p\\xca%\\x0cWj\\x95Q\\xa5\\x0e\\xff\\xf5\\'4\\xdfLD\\xf1\\x1e\\xc1\\x96\\xb4\\xb6\\x0b,\\x91[C\\xda\\x1e$\\'\\x82.T\\'\\xb8\\x01Z\\x03\\x0b\\xf2\\xf4\\xa7\\x9f\\x9e<\\xfe\\xe1\\xc9\\xe3\\x1f\\x9f|\\xf0\\xc1\\x93\\xc7\\xdf\\xe6s\\x1bU\\x8e\\xdc>N\\xe7\\xb6\\xdc\\xef_}\\xfc\\xc7\\x17\\xef\\xa3\\xdf\\xbe\\xff\\xf2\\xf7O>\\xcd\\xa6>\\x8f\\x976\\xfe\\xd97\\x1f>\\xfb\\xf9\\x97\\xbfR\\x0f+.\\\\\\xf1\\xf4\\xb3\\xef\\x9e\\xfd\\xf0\\xdd\\xd3\\xcf?\\xfa\\xf5\\xebO<\\xda\\xbb\\x02\\x1f\\xdb\\xf01M\\x88D\\xb7\\xc8\\x19\\xba\\xcb\\x13X\\xa0\\xc7~r,^Nb\\x1cc\\xeaH\\xe0\\x18t{T\\x0fU\\xec\\x00o\\xad0\\xf3\\xe1z\\xc4u\\xe1}\\x01,\\xe3\\x03^_>pl=\\x8a\\xc5RQ\\xcf\\xcc7\\xe3\\xc4\\x01\\x1er\\xcez\\\\x\\x1dpS\\xcfeyx\\xbcL\\xe7\\xfe\\xc9\\xc5\\xd2\\xc6\\xdd\\xc5\\xf8\\xd47w\\x1f\\xa7N\\x80\\x87\\xcb\\x05\\xd0+\\xf5\\xa9\\xec\\xc7\\xc41\\xf3\\x0e\\xc3\\xa9\\xc2s\\x92\\x12\\x85\\xf4o\\xfc\\x84\\x10\\xcf\\xea\\xde\\xa5\\xd4\\xf1\\xeb!\\x9d\\x08.\\xf9L\\xa1w)\\xeaa\\xeau\\xc9\\x98\\x1e;\\x89T\\x08\\xed\\xd3\\x04\\xe2\\xb2\\xf2\\x19\\x08\\xa1v|sx\\x1f\\xf58\\xf3\\xadz@N]$l\\x0b\\xcc<\\xc6\\x8f\\ts\\xdcx\\x1d/\\x15N|*\\xc78a\\xb6\\xc3\\x0f\\xb0\\x8a}F\\x1e\\xad\\xc4\\xc4\\xc6\\r\\xa5\\x82H\\xcf\\t\\xe3h8%R\\xfadn\\x0bX\\xaf\\x15\\xf4\\x9b\\xc00\\xfe\\xb0\\x1f\\xb2U\\xe2\"\\x85\\xa2\\'>\\x9d\\x07\\x98s\\x1b9\\xe0\\'\\xfd\\x18\\'\\x0b\\xaf\\xcd4\\x8dm\\xec\\xdb\\xf2\\x04R\\x14\\xa3;\\\\\\xf9\\xe0\\x87\\xdc\\xdd!\\xfa\\x19\\xe2\\x80\\xd3\\x9d\\xe1\\xbeO\\x89\\x13\\xee\\xe7\\x13\\xc1= W\\xdb\\xa4\"A\\xf4/K\\xe1\\x89\\xe5u\\xc2\\xdd\\xfd\\xb8b3L|,\\xd3\\x15\\x89\\xc3\\xae]A\\xbd\\xd9\\xd1[\\xce\\x9d\\xd4> \\x84\\xe13<%\\x04\\xdd{\\xdbcA\\x8f/\\x1c\\x9f\\x17F\\xdf\\x88\\x81U\\xf6\\x89/\\xb1n`7W\\xf5sJ$A\\xa6\\xae\\xd9\\xa6\\xc8\\x03*\\x9d\\x94=\"s\\xbe\\xc3\\x9e\\xc3\\xd59\\xe2Y\\xe14\\xc1b\\x97\\xe6[\\x10u\\'u\\xe1\\x94\\xf3R\\xe9m69\\xb1\\x81\\xb7(\\x14\\x80\\x90/^\\xa7\\xdc\\x96\\xa0\\xc3J\\xee\\xe1.\\xadwb\\xec\\x9c]\\xfaY\\xfa\\xf3u%\\x9c\\xf8\\xbd\\xc8\\x1e\\x83}\\xf9\\xe0e\\xf7%\\xc8\\x90\\x97\\x96\\x01b\\x7fa\\xdf\\x8c1s&(\\x12f\\x8c\\xa1\\xc0\\xf0\\xd1-\\x888\\xe1/D\\xf4\\xb9j\\xc4\\x96^\\xb9\\x99\\xbbi\\x8b0@a\\xe4\\xd4;\\tM\\x9f[\\xfc\\x9c+{\\xa2\\x7f\\xa6\\xec\\xf1\\x170\\x17P\\xf0\\xf8\\x15\\xff\\x9dRg\\x17\\xa5\\xec\\x9f+pv\\xe1\\xfe\\x83e\\xcd\\x00/\\xd3;\\x04N\\x92m\\xce\\xba\\xacj.\\xab\\x9a\\xe0\\x7f_\\xd5\\xec\\xda\\xcb\\x97\\xb5\\xcce-sY\\xcb\\xf8\\xde\\xbe^K-S\\x94/P\\xd9\\x14]\\x1e\\xd3\\xf3Iv\\xb6|f\\x94\\xb1#\\xb5b\\xe4@\\x9a\\xae\\x8f\\x847\\x9a\\xe9\\x08\\x06M;\\xca\\xf4$7-\\xc0E\\x0c_\\xf3\\x06\\x93\\x83\\x9b\\x0bld\\x90\\xe0\\xea\\x1d\\xaa\\xe2\\xa3\\x18/\\xa05T5\\xcd\\xce\\xb9\\xccU\\xcf%Zp\\t\\x1d#3l\\x9a\\xa9\\xe4\\x9cn\\xd3wZ&\\x87|\\x9au:\\xabU\\xdd\\xd5\\xcc\\\\(\\xb1*\\xc6+\\xd1f\\x1c\\xbaT*C7\\x9aE\\xf7n\\xa3\\xde\\xf4C\\xe7\\xa6\\xcb\\xba6@\\xcb\\xbe\\x8c\\x11\\xd6d\\xae\\x11u\\x8f\\x11\\xcd\\xf5 D\\xe1\\xaf\\x8c0+\\xbb\\x10+\\xda\\x1e+ZZ\\xfd:T\\xeb(n\\\\\\x01\\xa6m\\xa2\\x02\\xaf\\xdc\\x08^\\xd4;A\\x14f\\x1ddh\\xc6Ay>\\xd5q\\xca\\x9a\\xc9\\xeb\\xe8\\xea\\xe0\\\\h\\xa4w9\\x93\\xd9\\x19\\x00%\\xf6:\\x03\\x8aH\\xb7\\xb5\\xad;\\x97\\xa7W\\x97\\xa5\\xda\\x0bD\\xda1\\xc2J7\\xd7\\x08+\\rcx\\x11\\xce\\xb3\\xd3n\\xb9_d\\xac\\xdbEH\\x1d\\xf3\\xb4+\\xd6\\xbb\\xa10\\xa3\\xd9z\\x1d\\xb1\\xd6$r\\x8e\\x1bXj3\\x05K\\xd1Y\\'h\\xd4#\\xb8W\\x99\\xe0E\\'\\x98A\\xc7\\x18\\xbe&\\x0b\\xc8\\x1d\\xa9\\xdf\\xba0\\x9b\\xc3\\xc5\\xcbD\\x89l\\xc3\\xbf\\n\\xb3,\\x84T\\x03,\\xe3\\xcc\\xe1\\x86t26H\\xa8\"\\x021\\x9at\\x02\\xbd\\xfcM6\\xb0\\xd4p\\x88\\xb1\\xadZ\\x03B\\xf8\\xd7\\x1a\\xd7\\x06Z\\xf9\\xb7\\x19\\x07Aw\\x83Lf32Qv\\xd8\\xad\\x11\\xed\\xe9\\xec\\x11\\x18>\\xe3\\n\\xef\\xafF\\xfc\\xd5\\xc1Z\\x92/!\\xdcG\\xf1\\xf4\\x0c\\x1d\\xb3\\xa5\\xb8\\x8b!\\xc5\\xa2fU;pJ%\\\\\\x1cT3oN)\\xdc\\x84m\\x88\\xac\\xc8\\xbfs\\x07SN\\xbb\\xf6U\\x94\\xc9\\xa1l\\x1c\\xb3E\\x8c\\xf3\\x13\\xc5&\\xf3\\x0cnHtc\\x8ey\\xda\\xf8\\xc0z\\xca\\xd7\\x0c\\x0e\\xddv\\xe1\\xf1\\\\\\x1f\\xb0\\x7f\\xfb\\xd4}\\xfeQ\\xad=g\\x91fqf:\\xac\\xa2OM?\\x99\\xbe\\xbeC\\xde\\xb2\\xaa8D\\x1d\\xab2\\xea6\\xef\\xd4\\xb2\\xe0\\xba\\xf6\\x9a\\xeb Q\\xbd\\xa7\\xc4sN\\xdd\\x178\\x10,\\xd3\\x8a\\xc9\\x1c\\xd3\\xb4\\xc5\\xdb4\\xac9;\\x1fuM\\xbb\\xc0\\x82\\xc0\\xf2Dc\\x87\\xdf6g\\x84\\xd7\\x13\\xafz\\xf2\\x83\\xdc\\xf9\\xac\\xd5\\x07\\xc4\\xba\\xae4\\x89o.\\xcd\\xed[m~\\xfc\\x00\\xc8c\\x00\\xf7\\x87K\\xa6\\xa4\\t%\\xdcY\\x0b\\x0cE_v\\x03\\x99\\xd1\\x06l\\x91\\x87*\\xaf\\x11\\xe1\\x1bZ\\n\\xda\\t\\xde\\xabD\\xdd\\xb0_\\x8b\\xfa\\xa5J+\\x1a\\x96\\xc2zX)\\xb5\\xa2n\\xbd\\xd4\\x8d\\xa2zu\\x18U+\\x83^\\xed\\x11\\x1c,*N\\xaaQva?\\x82+\\x0c\\xb6\\xca\\xaf\\xed\\xcd\\xf8\\xd6\\xd5}\\xb2\\xbe\\xa5\\xb92\\xe1I\\x99\\x9b+\\xf9\\xb21\\xdc\\\\\\xddWk\\xce\\xd5}v\\r\\x8f\\xc6\\xfaf>@\\x14H\\xe7\\xbdFm\\xd4\\xae\\xb7{\\x8dR\\xbb\\xde\\x1d\\x95\\xc2A\\xafUj\\xf7\\x1b\\xbd\\xd2\\xa0\\xd1o\\x0eF\\x83~\\xd4j\\x8f\\x1e\\x05\\xe8\\xd4\\x80\\xc3n\\xbd\\x1f6\\x86\\xadR\\xa3\\xda\\xef\\x97\\xc2FE\\x9b\\xdfj\\x97\\x9aa\\xad\\xd6\\r\\x9b\\xdd\\xd60\\xec>\\xca\\xcb\\x18XyF\\x1f\\xb9/\\xc0\\xbd\\xc6\\xaek\\x7f\\x02\\x00\\x00\\xff\\xff\\x03\\x00PK\\x03\\x04\\x14\\x00\\x06\\x00\\x08\\x00\\x00\\x00!\\x00\\xaa\\x8e\\xac\\xb9\\xda\\x02\\x00\\x00\\x1c\\x07\\x00\\x00\\r\\x00\\x00\\x00xl/styles.xml\\xa4U[o\\x9b0\\x14~\\x9f\\xb4\\xff`\\xf9\\x9d\\x1ah\\xc8\\x92\\x08\\xa8\\x9a\\xa6H\\x95\\xb6iR;i\\xaf\\x0e\\x98\\xc4\\xaa/\\xc8v2\\xd2i\\xff}\\xc7@\\x12\\xaaN\\xbb\\xb4/\\xc1>\\xc7\\xfe\\xfc\\x9d\\xef\\\\\\x92^\\xb5R\\xa0=3\\x96k\\x95\\xe1\\xe8\"\\xc4\\x88\\xa9RW\\\\m2\\xfc\\xf5\\xa1\\x08f\\x18YGUE\\x85V,\\xc3\\x07f\\xf1U\\xfe\\xfe]j\\xddA\\xb0\\xfb-c\\x0e\\x01\\x84\\xb2\\x19\\xde:\\xd7,\\x08\\xb1\\xe5\\x96Ij/t\\xc3\\x14xjm$u\\xb05\\x1bb\\x1b\\xc3he\\xfd%)H\\x1c\\x86S\")W\\xb8GX\\xc8\\xf2_@$5\\x8f\\xbb&(\\xb5l\\xa8\\xe3k.\\xb8;tX\\x18\\xc9rq\\xb7Q\\xda\\xd0\\xb5\\x00\\xaam4\\xa1%j\\xa3\\xa9\\x89Qk\\x8e\\x8ft\\xd6\\x17\\xefH^\\x1amu\\xed.\\x00\\x97\\xe8\\xba\\xe6%{IwN\\xe6\\x84\\x96g$@~\\x1dR\\x94\\x900~\\x16{k^\\x894!\\x86\\xed\\xb9O\\x1f\\xce\\xd3Z+gQ\\xa9w\\xcae8\\x06\\xa2^\\x82\\xc5\\xa3\\xd2\\xdfU\\xe1]\\x90\\xe1\\xe1T\\x9e\\xda\\'\\xb4\\xa7\\x02,\\x11&yZj\\xa1\\rr\\x90:P\\xae\\xb3(*Y\\x7f\\xe2\\x86\\n\\xbe6\\xdc\\x1f\\xab\\xa9\\xe4\\xe2\\xd0\\x9bco\\xe8\\xb2=\\x9c\\x93\\x1c\\xb4\\xf7F\\xe2y\\xf4l\\xce\\xef\\xcc\\xbc\\xe7\\xed\\xa0\\x1d\\xb6\\x05p.\\xc4(\\xd4\\xde\\x90\\xa7P\\x13\\x8e\\x19U\\x80\\x17\\r\\xeb\\x87C\\x031)(\\xdf\\x9e\\x1b\\xb8\\xfezzc\\xe8!\\x8a\\x93\\xd1\\x05\\xd2=\\x98\\xa7km*h\\x97\\xa3\\xc8^\\xcf\\xde\\x94\\xa7\\x82\\xd5\\x0eb4|\\xb3\\xf5_\\xa7\\x1b\\xf8]k\\xe7\\xa0\\xa4\\xf2\\xb4\\xe2t\\xa3\\x15\\x15^\\x9f\\xe3\\x8da\\x01\\xe1\\x94L\\x88{\\xdfR\\xdf\\xeag\\xd8m\\x8d\\xd4N\\x16\\xd2\\xddU\\x19\\x86\\xe6\\xf4\\xca\\x1e\\x97\\x10\\xc8\\xb0\\xec\\xf1\\xfa\\x8d\\xc7\\x1f\\xa3\\xf5\\xd8#\\xd8\\x18(\\xff?,j\\xeb\\x13\\xfe\\x1bn#\\xda4\\xe2p-\\xf8FI\\xe6\\xab\\xd4\\x0b\\x08\\xf5\\xd5o\\xd1V\\x1b\\xfe\\x04!\\xfa\\xc2,\\xc1\\xcf\\xfazj\\xeb!(\\x08c\\xa4\\xd53\\xa5N1#_d\\x19\\xfe\\xec\\x07\\x8f\\x80\\x1e\\x18x\\xa3\\xf5\\x8e\\x0b\\xc7\\xd5oT\\x02\\xcc\\xaa=\\xeb\\x1e\\xfa\\xb4;?D\\xba\\x8c\\x9c^\\x01\\xf9+V\\xd3\\x9dp\\x0f\\'g\\x86\\xcf\\xebO\\xac\\xe2;\\tm7\\x9c\\xfa\\xc2\\xf7\\xdau\\x10\\x19>\\xaf?\\xfa\\xf2\\x88\\xa6\\xfe\\r\\xd6\\xba\\x8f\\x16\\x1a\\x05\\xbehgx\\x86\\x7f\\xdc.?\\xccW\\xb7E\\x1c\\xcc\\xc2\\xe5,\\x98\\\\\\xb2$\\x98\\'\\xcbU\\x90Ln\\x96\\xabU1\\x0f\\xe3\\xf0\\xe6\\xe7h\\x94\\xbda\\x90u\\x93\\x17*!\\x9a,\\xac\\x80qg\\x86`\\x07\\xf2\\xf7g[\\x86G\\x9b\\x9e~\\xd7\\x18@{\\xcc}\\x1eO\\xc3\\xeb$\\n\\x83\\xe22\\x8c\\x82\\xc9\\x94\\xce\\x82\\xd9\\xf42\\t\\x8a$\\x8aW\\xd3\\xc9\\xf26)\\x92\\x11\\xf7\\xe4\\x95\\x03/$Q\\xd4\\x8fNO>Y8.\\x99\\xe0\\xea\\x98\\xabc\\x86\\xc6VH\\x12l\\xff\\x10\\x049f\\x82\\x9c\\xff\\xd6\\xf2_\\x00\\x00\\x00\\xff\\xff\\x03\\x00PK\\x03\\x04\\x14\\x00\\x06\\x00\\x08\\x00\\x00\\x00!\\x00\\x12\\xbb\\x8c\\xc4\\xb4\\x00\\x00\\x000\\x01\\x00\\x00\\x14\\x00\\x00\\x00xl/sharedStrings.xmld\\x8f\\xc1j\\xc30\\x0c@\\xef\\x83\\xfe\\x83\\xd1\\xbdu\\xd2\\x8eQ\\x86\\xed\\x1c\\n\\xfd\\x82\\x0e\\xb2\\xa3I\\xd4\\xc6\\x10\\xcb\\xa9\\xa5\\x8c\\xf5\\xef\\xe72\\x06\\x03\\x1f\\xdf\\xd3\\x13B\\xa6\\xfb\\x8e\\xb3\\xfa\\xc2\\xcc!\\x91\\x85v\\xd7\\x80B\\x1a\\xd2\\x18\\xe8f\\xe1\\xe3r\\xde\\x1eA\\xb1x\\x1a\\xfd\\x9c\\x08-<\\x90\\xa1s\\x9b\\x17\\xc3,\\xaa\\xec\\x12[\\x98D\\x96w\\xady\\x980z\\xde\\xa5\\x05\\xa9L\\xae)G/\\x05\\xf3M\\xf3\\x92\\xd1\\x8f<!J\\x9c\\xf5\\xbei\\xdet\\xf4\\x81@\\ri%\\xb1P\\x8e\\xac\\x14\\xee+\\x9e\\xfe\\xd8\\x19\\x0e\\xce\\x88\\xeb[\\xa3\\xc5\\x19\\xfd\\xa4_\\xf3Y\\x99~_5\\x95\\xe9\\x0fUS\\x99\\xfe\\xb5j\\xfe\\x19]>v?\\x00\\x00\\x00\\xff\\xff\\x03\\x00PK\\x03\\x04\\x14\\x00\\x06\\x00\\x08\\x00\\x00\\x00!\\x00\\x05\\x01\\xd1EA\\x01\\x00\\x00[\\x02\\x00\\x00\\x11\\x00\\x08\\x01docProps/core.xml \\xa2\\x04\\x01(\\xa0\\x00\\x01\\x00\\x00\\x00\\x00\\x00\\x00\\x00\\x00\\x00\\x00\\x00\\x00\\x00\\x00\\x00\\x00\\x00\\x00\\x00\\x00\\x00\\x00\\x00\\x00\\x00\\x00\\x00\\x00\\x00\\x00\\x00\\x00\\x00\\x00\\x00\\x00\\x00\\x00\\x00\\x00\\x00\\x00\\x00\\x00\\x00\\x00\\x00\\x00\\x00\\x00\\x00\\x00\\x00\\x00\\x00\\x00\\x00\\x00\\x00\\x00\\x00\\x00\\x00\\x00\\x00\\x00\\x00\\x00\\x00\\x00\\x00\\x00\\x00\\x00\\x00\\x00\\x00\\x00\\x00\\x00\\x00\\x00\\x00\\x00\\x00\\x00\\x00\\x00\\x00\\x00\\x00\\x00\\x00\\x00\\x00\\x00\\x00\\x00\\x00\\x00\\x00\\x00\\x00\\x00\\x00\\x00\\x00\\x00\\x00\\x00\\x00\\x00\\x00\\x00\\x00\\x00\\x00\\x00\\x00\\x00\\x00\\x00\\x00\\x00\\x00\\x00\\x00\\x00\\x00\\x00\\x00\\x00\\x00\\x00\\x00\\x00\\x00\\x00\\x00\\x00\\x00\\x00\\x00\\x00\\x00\\x00\\x00\\x00\\x00\\x00\\x00\\x00\\x00\\x00\\x00\\x00\\x00\\x00\\x00\\x00\\x00\\x00\\x00\\x00\\x00\\x00\\x00\\x00\\x00\\x00\\x00\\x00\\x00\\x00\\x00\\x00\\x00\\x00\\x00\\x00\\x00\\x00\\x00\\x00\\x00\\x00\\x00\\x00\\x00\\x00\\x00\\x00\\x00\\x00\\x00\\x00\\x00\\x00\\x00\\x00\\x00\\x00\\x00\\x00\\x00\\x00\\x00\\x00\\x00\\x00\\x00\\x00\\x00\\x00\\x00\\x00\\x00\\x00\\x00\\x00\\x00\\x00\\x00\\x00\\x00\\x00\\x00\\x00\\x00\\x00\\x00\\x00\\x00\\x00\\x00\\x00\\x00\\x00\\x00\\x00\\x00\\x00\\x00\\x00\\x00\\x00\\x00\\x00\\x00\\x00\\x00\\x00\\x00\\x00\\x00\\x00\\x8c\\x92QK\\xc30\\x14\\x85\\xdf\\x05\\xffC\\xc9{\\x9b\\xb4\\x9d\\xc3\\x85\\xb6\\x03\\x95=9\\x10\\x9c(\\xbe\\x85\\xe4\\xae\\x0b6iH\\xa2\\xdd\\xfe\\xbdi\\xbb\\xd5\\xc9|\\xf01\\xf7\\x9c\\xfb\\xdds/)\\x96{\\xd5D_`\\x9dlu\\x89\\xd2\\x84\\xa0\\x084o\\x85\\xd4u\\x89^6\\xab\\xf8\\x16E\\xce3-X\\xd3j(\\xd1\\x01\\x1cZV\\xd7W\\x057\\x94\\xb7\\x16\\x9elk\\xc0z\\t.\\n$\\xed(7%\\xdayo(\\xc6\\x8e\\xef@1\\x97\\x04\\x87\\x0e\\xe2\\xb6\\xb5\\x8a\\xf9\\xf0\\xb456\\x8c\\x7f\\xb0\\x1apF\\xc8\\x1c+\\xf0L0\\xcfp\\x0f\\x8c\\xcdDDG\\xa4\\xe0\\x13\\xd2|\\xdaf\\x00\\x08\\x8e\\xa1\\x01\\x05\\xda;\\x9c&)\\xfe\\xf1z\\xb0\\xca\\xfd\\xd90(gN%\\xfd\\xc1\\x84\\x9d\\x8eq\\xcf\\xd9\\x82\\x8f\\xe2\\xe4\\xde;9\\x19\\xbb\\xaeK\\xba|\\x88\\x11\\xf2\\xa7\\xf8m\\xfd\\xf8<\\xac\\x1aK\\xdd\\xdf\\x8a\\x03\\xaa\\n\\xc1)\\xb7\\xc0|k\\xab\\xda2.\\x0b|V\\xe9\\xaf\\xd70\\xe7\\xd7\\xe1\\xd0[\\t\\xe2\\xeep2]\\n\\x814\\x04\\x1fq \\xa2\\x10\\x85\\x8e\\xc1O\\xcak~\\xff\\xb0Y\\xa1*#\\x19\\x89\\xc9\"\\xce\\xe6\\x9btAof\\x94,\\xde\\xfb\\xb9\\xbf\\xfa\\xfbhcA\\x1d\\xa7\\xff\\x8f\\x98\\x11\\x9a\\xcfh>?#\\x9e\\x00U\\x81/\\xbeC\\xf5\\r\\x00\\x00\\xff\\xff\\x03\\x00PK\\x03\\x04\\x14\\x00\\x06\\x00\\x08\\x00\\x00\\x00!\\x00\\'\\x01\\xec\\xa5\\x91\\x01\\x00\\x00\\x17\\x03\\x00\\x00\\x10\\x00\\x08\\x01docProps/app.xml \\xa2\\x04\\x01(\\xa0\\x00\\x01\\x00\\x00\\x00\\x00\\x00\\x00\\x00\\x00\\x00\\x00\\x00\\x00\\x00\\x00\\x00\\x00\\x00\\x00\\x00\\x00\\x00\\x00\\x00\\x00\\x00\\x00\\x00\\x00\\x00\\x00\\x00\\x00\\x00\\x00\\x00\\x00\\x00\\x00\\x00\\x00\\x00\\x00\\x00\\x00\\x00\\x00\\x00\\x00\\x00\\x00\\x00\\x00\\x00\\x00\\x00\\x00\\x00\\x00\\x00\\x00\\x00\\x00\\x00\\x00\\x00\\x00\\x00\\x00\\x00\\x00\\x00\\x00\\x00\\x00\\x00\\x00\\x00\\x00\\x00\\x00\\x00\\x00\\x00\\x00\\x00\\x00\\x00\\x00\\x00\\x00\\x00\\x00\\x00\\x00\\x00\\x00\\x00\\x00\\x00\\x00\\x00\\x00\\x00\\x00\\x00\\x00\\x00\\x00\\x00\\x00\\x00\\x00\\x00\\x00\\x00\\x00\\x00\\x00\\x00\\x00\\x00\\x00\\x00\\x00\\x00\\x00\\x00\\x00\\x00\\x00\\x00\\x00\\x00\\x00\\x00\\x00\\x00\\x00\\x00\\x00\\x00\\x00\\x00\\x00\\x00\\x00\\x00\\x00\\x00\\x00\\x00\\x00\\x00\\x00\\x00\\x00\\x00\\x00\\x00\\x00\\x00\\x00\\x00\\x00\\x00\\x00\\x00\\x00\\x00\\x00\\x00\\x00\\x00\\x00\\x00\\x00\\x00\\x00\\x00\\x00\\x00\\x00\\x00\\x00\\x00\\x00\\x00\\x00\\x00\\x00\\x00\\x00\\x00\\x00\\x00\\x00\\x00\\x00\\x00\\x00\\x00\\x00\\x00\\x00\\x00\\x00\\x00\\x00\\x00\\x00\\x00\\x00\\x00\\x00\\x00\\x00\\x00\\x00\\x00\\x00\\x00\\x00\\x00\\x00\\x00\\x00\\x00\\x00\\x00\\x00\\x00\\x00\\x00\\x00\\x00\\x00\\x00\\x00\\x00\\x00\\x00\\x00\\x00\\x00\\x00\\x00\\x00\\x00\\x00\\x00\\x00\\x00\\x00\\x00\\x00\\x00\\x9c\\x92\\xc1n\\xdb0\\x0c\\x86\\xef\\x03\\xf6\\x0e\\x86\\xee\\x8d\\x9cn(\\x86@VQ\\xa4\\x1br\\xd8\\xb0\\x00I{\\xe7d:\\xd1&K\\x82\\xc4\\x18\\xc9\\xdef\\xcf\\xb2\\x17\\x1bm\\xa3\\x89\\xb3\\xed\\xd4\\x1b\\xc9\\x9f\\xfa\\xf5\\x89\\xa2\\xba?\\xb6\\xae\\xe80e\\x1b|%\\xe6\\xb3R\\x14\\xe8M\\xa8\\xad\\xdfU\\xe2i\\xfb\\xe9\\xe6\\x83(2\\x81\\xaf\\xc1\\x05\\x8f\\x958a\\x16\\xf7\\xfa\\xed\\x1b\\xb5N!b\"\\x8b\\xb9`\\x0b\\x9f+\\xb1\\'\\x8a\\x0b)\\xb3\\xd9c\\x0by\\xc6\\xb2g\\xa5\\t\\xa9\\x05\\xe24\\xeddh\\x1ak\\xf01\\x98C\\x8b\\x9e\\xe4mY\\xdeI<\\x12\\xfa\\x1a\\xeb\\x9bx6\\x14\\xa3\\xe3\\xa2\\xa3\\xd7\\x9a\\xd6\\xc1\\xf4|\\xf9y{\\x8a\\x0c\\xac\\xd5C\\x8c\\xce\\x1a ~\\xa5\\xfebM\\n94T|<\\x1atJNE\\xc5t\\x1b4\\x87d\\xe9\\xa4K%\\xa7\\xa9\\xda\\x18p\\xb8dc\\xdd\\x80\\xcb\\xa8\\xe4\\xa5\\xa0V\\x08\\xfd\\xd0\\xd6`S\\xd6\\xaa\\xa3E\\x87\\x86B*\\xb2\\xfd\\xc9c\\xbb\\x15\\xc57\\xc8\\xd8\\xe3T\\xa2\\x83d\\xc1\\x13c\\xf5mc2\\xc4.fJz\\x15\\xbeC.j,\\xcc\\xef_\\xce\\x1c\\\\P\\x92\\xfbFm\\x08\\xa7G\\xa6\\xb1}\\xaf\\xe7C\\x03\\x07\\xd7\\x8d\\xbd\\xc1\\xc8\\xc3\\xc25\\xe9\\xd6\\x92\\xc3\\xfc\\xb5YC\\xa2\\xff\\x80\\xcf\\xa7\\xe0\\x03\\xc3\\x88}A\\x1d\\xaf\\x9c\\xe2\\r\\x0f\\xe7\\x8b\\xfe\\xb2^\\x866\\x82?\\xb1p\\x8e>[\\xff#?\\xc5mx\\x04\\xc2\\x97\\xa1^\\x17\\xd5f\\x0f\\tk\\xfe\\x87\\xf3\\xd0\\xcf\\x05\\xb5\\xe2y&\\xd7\\x9b,\\xf7\\xe0wX\\xbf\\xf4\\xfc+\\xf4+\\xf0<\\xee\\xb9\\x9e\\xdf\\xcd\\xcaw%\\xff\\xee\\xa4\\xa6\\xe4e\\xa3\\xf5\\x1f\\x00\\x00\\x00\\xff\\xff\\x03\\x00PK\\x01\\x02-\\x00\\x14\\x00\\x06\\x00\\x08\\x00\\x00\\x00!\\x00b\\xee\\x9dh^\\x01\\x00\\x00\\x90\\x04\\x00\\x00\\x13\\x00\\x00\\x00\\x00\\x00\\x00\\x00\\x00\\x00\\x00\\x00\\x00\\x00\\x00\\x00\\x00\\x00[Content_Types].xmlPK\\x01\\x02-\\x00\\x14\\x00\\x06\\x00\\x08\\x00\\x00\\x00!\\x00\\xb5U0#\\xf4\\x00\\x00\\x00L\\x02\\x00\\x00\\x0b\\x00\\x00\\x00\\x00\\x00\\x00\\x00\\x00\\x00\\x00\\x00\\x00\\x00\\x97\\x03\\x00\\x00_rels/.relsPK\\x01\\x02-\\x00\\x14\\x00\\x06\\x00\\x08\\x00\\x00\\x00!\\x00\\xcd\\xeb\\xf9\\x85\\x0f\\x03\\x00\\x00\\xe8\\x06\\x00\\x00\\x0f\\x00\\x00\\x00\\x00\\x00\\x00\\x00\\x00\\x00\\x00\\x00\\x00\\x00\\xbc\\x06\\x00\\x00xl/workbook.xmlPK\\x01\\x02-\\x00\\x14\\x00\\x06\\x00\\x08\\x00\\x00\\x00!\\x00\\x81>\\x94\\x97\\xf3\\x00\\x00\\x00\\xba\\x02\\x00\\x00\\x1a\\x00\\x00\\x00\\x00\\x00\\x00\\x00\\x00\\x00\\x00\\x00\\x00\\x00\\xf8\\t\\x00\\x00xl/_rels/workbook.xml.relsPK\\x01\\x02-\\x00\\x14\\x00\\x06\\x00\\x08\\x00\\x00\\x00!\\x00u\\xe1\\x91\\x04t\\x04\\x00\\x00\\x1a\\x10\\x00\\x00\\x18\\x00\\x00\\x00\\x00\\x00\\x00\\x00\\x00\\x00\\x00\\x00\\x00\\x00+\\x0c\\x00\\x00xl/worksheets/sheet1.xmlPK\\x01\\x02-\\x00\\x14\\x00\\x06\\x00\\x08\\x00\\x00\\x00!\\x00\\x83Ml\\xc8V\\x07\\x00\\x00\\xc8 \\x00\\x00\\x13\\x00\\x00\\x00\\x00\\x00\\x00\\x00\\x00\\x00\\x00\\x00\\x00\\x00\\xd5\\x10\\x00\\x00xl/theme/theme1.xmlPK\\x01\\x02-\\x00\\x14\\x00\\x06\\x00\\x08\\x00\\x00\\x00!\\x00\\xaa\\x8e\\xac\\xb9\\xda\\x02\\x00\\x00\\x1c\\x07\\x00\\x00\\r\\x00\\x00\\x00\\x00\\x00\\x00\\x00\\x00\\x00\\x00\\x00\\x00\\x00\\\\\\x18\\x00\\x00xl/styles.xmlPK\\x01\\x02-\\x00\\x14\\x00\\x06\\x00\\x08\\x00\\x00\\x00!\\x00\\x12\\xbb\\x8c\\xc4\\xb4\\x00\\x00\\x000\\x01\\x00\\x00\\x14\\x00\\x00\\x00\\x00\\x00\\x00\\x00\\x00\\x00\\x00\\x00\\x00\\x00a\\x1b\\x00\\x00xl/sharedStrings.xmlPK\\x01\\x02-\\x00\\x14\\x00\\x06\\x00\\x08\\x00\\x00\\x00!\\x00\\x05\\x01\\xd1EA\\x01\\x00\\x00[\\x02\\x00\\x00\\x11\\x00\\x00\\x00\\x00\\x00\\x00\\x00\\x00\\x00\\x00\\x00\\x00\\x00G\\x1c\\x00\\x00docProps/core.xmlPK\\x01\\x02-\\x00\\x14\\x00\\x06\\x00\\x08\\x00\\x00\\x00!\\x00\\'\\x01\\xec\\xa5\\x91\\x01\\x00\\x00\\x17\\x03\\x00\\x00\\x10\\x00\\x00\\x00\\x00\\x00\\x00\\x00\\x00\\x00\\x00\\x00\\x00\\x00\\xbf\\x1e\\x00\\x00docProps/app.xmlPK\\x05\\x06\\x00\\x00\\x00\\x00\\n\\x00\\n\\x00\\x80\\x02\\x00\\x00\\x86!\\x00\\x00\\x00\\x00'}"
            ]
          },
          "metadata": {
            "tags": []
          },
          "execution_count": 2
        }
      ]
    },
    {
      "cell_type": "code",
      "metadata": {
        "id": "-QuwzRtpMztn",
        "outputId": "35f6dfe5-6e0e-4fd1-fc6d-bd099d88239c",
        "colab": {
          "base_uri": "https://localhost:8080/",
          "height": 221
        }
      },
      "source": [
        "import pandas as pd\n",
        "import numpy  as np\n",
        "df=pd.read_excel('valores.xlsx')\n",
        "\n",
        "print(df)"
      ],
      "execution_count": null,
      "outputs": [
        {
          "output_type": "stream",
          "text": [
            "    X1     Y1  X2    Y2  X3     Y3  X4     Y4\n",
            "0   10   8.04  10  9.14  10   7.46   8   6.58\n",
            "1    8   6.95   8  8.14   8   6.77   8   5.76\n",
            "2   13   7.58  13  8.74  13  12.74   8   7.71\n",
            "3    9   8.81   9  8.77   9   7.11   8   8.84\n",
            "4   11   8.33  11  9.26  11   7.81   8   8.47\n",
            "5   14   9.96  14  8.10  14   8.84   8   7.04\n",
            "6    6   7.24   6  6.13   6   6.08   8   5.25\n",
            "7    4   4.26   4  3.10   4   5.39  19  12.50\n",
            "8   12  10.84  12  9.13  12   8.15   8   5.56\n",
            "9    7   4.82   7  7.26   7   6.42   8   7.91\n",
            "10   5   5.68   5  4.74   5   5.73   8   6.89\n"
          ],
          "name": "stdout"
        }
      ]
    },
    {
      "cell_type": "code",
      "metadata": {
        "id": "DFHedvMjJQIP",
        "outputId": "d67b8832-1a24-4676-e07c-e5b1e2d06f1e",
        "colab": {
          "base_uri": "https://localhost:8080/",
          "height": 170
        }
      },
      "source": [
        "\n",
        "df.dtypes"
      ],
      "execution_count": null,
      "outputs": [
        {
          "output_type": "execute_result",
          "data": {
            "text/plain": [
              "X1      int64\n",
              "Y1    float64\n",
              "X2      int64\n",
              "Y2    float64\n",
              "X3      int64\n",
              "Y3    float64\n",
              "X4      int64\n",
              "Y4    float64\n",
              "dtype: object"
            ]
          },
          "metadata": {
            "tags": []
          },
          "execution_count": 4
        }
      ]
    },
    {
      "cell_type": "code",
      "metadata": {
        "id": "dm8ieZ1ONGN5"
      },
      "source": [
        "\n",
        "X1=df[['X1']].T.to_numpy()\n",
        "Y1=df[['Y1']].T.to_numpy()\n",
        "X2=df[['X2']].T.to_numpy()\n",
        "Y2=df[['Y2']].T.to_numpy()\n",
        "X3=df[['X3']].T.to_numpy()\n",
        "Y3=df[['Y3']].T.to_numpy()\n",
        "X4=df[['X4']].T.to_numpy()\n",
        "Y4=df[['Y4']].T.to_numpy()\n",
        "\n",
        "\n",
        "\n",
        "     "
      ],
      "execution_count": null,
      "outputs": []
    },
    {
      "cell_type": "code",
      "metadata": {
        "id": "NObAsitEKIIl",
        "outputId": "8aba8285-55dc-4daf-becc-4b5ee07bb6c8",
        "colab": {
          "base_uri": "https://localhost:8080/",
          "height": 85
        }
      },
      "source": [
        "print(X1.shape)\n",
        "print(Y1.shape)\n",
        "print(X1)\n",
        "print(Y1)"
      ],
      "execution_count": null,
      "outputs": [
        {
          "output_type": "stream",
          "text": [
            "(1, 11)\n",
            "(1, 11)\n",
            "[[10  8 13  9 11 14  6  4 12  7  5]]\n",
            "[[ 8.04  6.95  7.58  8.81  8.33  9.96  7.24  4.26 10.84  4.82  5.68]]\n"
          ],
          "name": "stdout"
        }
      ]
    },
    {
      "cell_type": "code",
      "metadata": {
        "id": "UR7WAVREJaHq",
        "outputId": "3f7edb98-b159-4eee-eaea-d632edd5cf9a",
        "colab": {
          "base_uri": "https://localhost:8080/",
          "height": 51
        }
      },
      "source": [
        "\n",
        "X=np.array([X1, X2, X3, X4])\n",
        "Y=np.array([Y1, Y2, Y3, Y4])\n",
        "\n",
        "Px=np.array([[16, 8, 16, 16]])\n",
        "Py=np.array([[8, 6, 10, 6]])\n",
        "\n",
        "print(X.shape)\n",
        "print(Px.shape)"
      ],
      "execution_count": null,
      "outputs": [
        {
          "output_type": "stream",
          "text": [
            "(4, 1, 11)\n",
            "(1, 4)\n"
          ],
          "name": "stdout"
        }
      ]
    },
    {
      "cell_type": "code",
      "metadata": {
        "id": "cwGkXyKEJiZL",
        "outputId": "d2a00e0b-b27b-44a0-d329-23f2696501bf",
        "colab": {
          "base_uri": "https://localhost:8080/",
          "height": 255
        }
      },
      "source": [
        "print(X)\n",
        "print(Y)"
      ],
      "execution_count": null,
      "outputs": [
        {
          "output_type": "stream",
          "text": [
            "[[[10  8 13  9 11 14  6  4 12  7  5]]\n",
            "\n",
            " [[10  8 13  9 11 14  6  4 12  7  5]]\n",
            "\n",
            " [[10  8 13  9 11 14  6  4 12  7  5]]\n",
            "\n",
            " [[ 8  8  8  8  8  8  8 19  8  8  8]]]\n",
            "[[[ 8.04  6.95  7.58  8.81  8.33  9.96  7.24  4.26 10.84  4.82  5.68]]\n",
            "\n",
            " [[ 9.14  8.14  8.74  8.77  9.26  8.1   6.13  3.1   9.13  7.26  4.74]]\n",
            "\n",
            " [[ 7.46  6.77 12.74  7.11  7.81  8.84  6.08  5.39  8.15  6.42  5.73]]\n",
            "\n",
            " [[ 6.58  5.76  7.71  8.84  8.47  7.04  5.25 12.5   5.56  7.91  6.89]]]\n"
          ],
          "name": "stdout"
        }
      ]
    },
    {
      "cell_type": "code",
      "metadata": {
        "id": "iIIkKKYxMj4A",
        "outputId": "43cfb498-927b-47a0-dacb-98ea2649f580",
        "colab": {
          "base_uri": "https://localhost:8080/",
          "height": 51
        }
      },
      "source": [
        "print(Px)\n",
        "print(Py[0,:])\n"
      ],
      "execution_count": null,
      "outputs": [
        {
          "output_type": "stream",
          "text": [
            "[[16  8 16 16]]\n",
            "[ 8  6 10  6]\n"
          ],
          "name": "stdout"
        }
      ]
    },
    {
      "cell_type": "code",
      "metadata": {
        "id": "hOHxLbhzJdg0",
        "outputId": "1ed9049c-a72f-41e0-e4ad-4c2ef2525210",
        "colab": {
          "base_uri": "https://localhost:8080/",
          "height": 289
        }
      },
      "source": [
        "Res=np.empty((4,4))\n",
        "#np.append es la funcion de agregar un valor al final\n",
        "for i in range (0,4):\n",
        "  for j in range (0,4):\n",
        "   # print (X[i])\n",
        "   # print(X[i][0])\n",
        "   # print(Px[0,i])\n",
        "    Zx = np.append([X[i]],Px[0,j])\n",
        "   # print(Zx)\n",
        "   # print(Zx.shape)\n",
        "    Zy = np.append(Y[i],Py[0,j])\n",
        "   # print(Zy)\n",
        "    res = np.corrcoef([Zx,Zy])[0,1]**2\n",
        "    print(res)\n",
        "    "
      ],
      "execution_count": null,
      "outputs": [
        {
          "output_type": "stream",
          "text": [
            "0.5270787836387584\n",
            "0.6614201505280526\n",
            "0.693270234097314\n",
            "0.30672495650204473\n",
            "0.5268520096602972\n",
            "0.661130647074041\n",
            "0.6930220012833334\n",
            "0.30656432237794173\n",
            "0.5270400840388905\n",
            "0.6612100002388696\n",
            "0.6932278974723755\n",
            "0.3066098657609394\n",
            "0.5272273693817962\n",
            "0.6615646903332931\n",
            "0.6934731362113838\n",
            "0.3067391807234127\n"
          ],
          "name": "stdout"
        }
      ]
    },
    {
      "cell_type": "code",
      "metadata": {
        "id": "Ucl-c6mc1bSt"
      },
      "source": [
        ""
      ],
      "execution_count": null,
      "outputs": []
    },
    {
      "cell_type": "markdown",
      "metadata": {
        "id": "HnwUZV1qH5Vr"
      },
      "source": [
        "# **Resultados:**\n",
        "\n",
        "Los valores obtenidos corresponden al valor del coeficiente de determinación (R^2) del cuarteto de Anscombe al ser agregados los valores propuestos ([16,8], [8,6], [16,10], [16,6]). \n",
        "Los primeros cuatro valores corresponden al primer set (X1,Y1) al cual se le agregó uno a uno los valores propuestos. Por ejemplo, 0.527078 es el valor de R^2 para (X1,Y1) incluyendo el punto [16,8]. El segundo valor, 0.661420, corresponde al R^2 de (X1,Y1) incluyendo el punto [8,6]. Y así sucesivamente.\n",
        "Los valores del quinto al octavo corresponden al segundo set (X2,Y2) para todos los puntos propuestos. Y así sucesivamente.\n",
        "\n",
        "Por lo tanto, se observa que el punto [16,10] eleva la correlación en todos los sets. De esta manera se concluye que este no es un método apropiado para determinar la pertenencia de cada punto en determinado set.\n",
        "\n",
        "\n",
        "\n"
      ]
    },
    {
      "cell_type": "code",
      "metadata": {
        "id": "ftjJOHqzP9vw",
        "outputId": "d7b5fe13-5532-476d-a642-b70cfe0ae9b8",
        "colab": {
          "base_uri": "https://localhost:8080/",
          "height": 282
        }
      },
      "source": [
        "import matplotlib.pyplot as plt\n",
        "\n",
        "plt.scatter(X1,Y1)"
      ],
      "execution_count": null,
      "outputs": [
        {
          "output_type": "execute_result",
          "data": {
            "text/plain": [
              "<matplotlib.collections.PathCollection at 0x7f829bc56d30>"
            ]
          },
          "metadata": {
            "tags": []
          },
          "execution_count": 18
        },
        {
          "output_type": "display_data",
          "data": {
            "image/png": "[encoded data removed]",
            "text/plain": [
              "<Figure size 432x288 with 1 Axes>"
            ]
          },
          "metadata": {
            "tags": [],
            "needs_background": "light"
          }
        }
      ]
    },
    {
      "cell_type": "code",
      "metadata": {
        "id": "YMCJcR4sQJeV",
        "outputId": "50e545df-5788-43ae-8892-d35983ae9587",
        "colab": {
          "base_uri": "https://localhost:8080/",
          "height": 282
        }
      },
      "source": [
        "plt.scatter(X2,Y2)"
      ],
      "execution_count": null,
      "outputs": [
        {
          "output_type": "execute_result",
          "data": {
            "text/plain": [
              "<matplotlib.collections.PathCollection at 0x7f829bc3c898>"
            ]
          },
          "metadata": {
            "tags": []
          },
          "execution_count": 19
        },
        {
          "output_type": "display_data",
          "data": {
            "image/png": "[encoded data removed]",
            "text/plain": [
              "<Figure size 432x288 with 1 Axes>"
            ]
          },
          "metadata": {
            "tags": [],
            "needs_background": "light"
          }
        }
      ]
    },
    {
      "cell_type": "code",
      "metadata": {
        "id": "mkJFP33E-ifQ",
        "outputId": "b2cf8def-01c8-4934-922f-097546c3cb16",
        "colab": {
          "base_uri": "https://localhost:8080/",
          "height": 283
        }
      },
      "source": [
        "plt.scatter(X3,Y3)"
      ],
      "execution_count": null,
      "outputs": [
        {
          "output_type": "execute_result",
          "data": {
            "text/plain": [
              "<matplotlib.collections.PathCollection at 0x7f829bb98e80>"
            ]
          },
          "metadata": {
            "tags": []
          },
          "execution_count": 20
        },
        {
          "output_type": "display_data",
          "data": {
            "image/png": "[encoded data removed]",
            "text/plain": [
              "<Figure size 432x288 with 1 Axes>"
            ]
          },
          "metadata": {
            "tags": [],
            "needs_background": "light"
          }
        }
      ]
    },
    {
      "cell_type": "code",
      "metadata": {
        "id": "Sj2YoWzU-lXQ",
        "outputId": "a6ad35a3-238a-4518-ca4d-332d0dd5ed61",
        "colab": {
          "base_uri": "https://localhost:8080/",
          "height": 282
        }
      },
      "source": [
        "plt.scatter(X4,Y4)"
      ],
      "execution_count": null,
      "outputs": [
        {
          "output_type": "execute_result",
          "data": {
            "text/plain": [
              "<matplotlib.collections.PathCollection at 0x7f829bb7ab38>"
            ]
          },
          "metadata": {
            "tags": []
          },
          "execution_count": 21
        },
        {
          "output_type": "display_data",
          "data": {
            "image/png": "[encoded data removed]",
            "text/plain": [
              "<Figure size 432x288 with 1 Axes>"
            ]
          },
          "metadata": {
            "tags": [],
            "needs_background": "light"
          }
        }
      ]
    },
    {
      "cell_type": "markdown",
      "metadata": {
        "id": "-tMGXNSu_GBd"
      },
      "source": [
        "Finalmente, al graficar los sets de datos (X,Y), es apreciable a simple vista que cada par de los datos proporcionados, se ajusta mejor a cada uno de los sets. A saber, (X1,Y1) se corresponde con [16,8]; (X2,Y2) se corresponde con [16,6]; (X3,Y3) se corresponde con [16,10] y (X4,Y4) se corresponde con [8,6]."
      ]
    }
  ]
}